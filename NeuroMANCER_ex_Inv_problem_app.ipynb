{
  "cells": [
    {
      "cell_type": "code",
      "execution_count": null,
      "metadata": {
        "id": "ipQ8d_003ias"
      },
      "outputs": [],
      "source": [
        "!pip install neuromancer"
      ]
    },
    {
      "cell_type": "markdown",
      "metadata": {
        "id": "Is_Ns18N7UoJ"
      },
      "source": [
        "In the cell below we implement and solve the following Optimization problem via Gradient Descent based methods in NeuroMANCER:\n",
        "\\begin{equation}\n",
        "    \\boldsymbol{\\hat{x}} = \\arg \\min_{\\boldsymbol{x}} ||\\boldsymbol{y}-H\\boldsymbol{x}||_2^{2} + \\lambda ||\\Phi \\boldsymbol{x}||_1\n",
        "\\end{equation}\n",
        "\\begin{equation*}\n",
        "    s.t. \\ \\boldsymbol{x} \\geq 0\n",
        "\\end{equation*}\n",
        "\n",
        "The background and context for the work here is inspired by the Techincal Proposal for enhancing NeuroMANCER's capabilities."
      ]
    },
    {
      "cell_type": "code",
      "execution_count": 1,
      "metadata": {
        "id": "pFIX3XaN38Lv"
      },
      "outputs": [],
      "source": [
        "import torch\n",
        "import torch.nn as nn\n",
        "import numpy as np\n",
        "import neuromancer.slim as slim\n",
        "import matplotlib.pyplot as plt\n",
        "import matplotlib.patheffects as patheffects\n",
        "import casadi\n",
        "import time\n",
        "\n",
        "from torchvision import datasets, transforms\n",
        "from torch.utils.data import DataLoader\n",
        "import matplotlib.pyplot as plt\n",
        "\n",
        "from neuromancer.trainer import Trainer\n",
        "from neuromancer.problem import Problem\n",
        "from neuromancer.constraint import variable\n",
        "from neuromancer.dataset import DictDataset\n",
        "from neuromancer.loss import PenaltyLoss\n",
        "from neuromancer.modules import blocks, solvers\n",
        "from neuromancer.system import Node\n",
        "\n",
        "from sklearn.datasets import fetch_openml\n",
        "from sklearn.model_selection import train_test_split"
      ]
    },
    {
      "cell_type": "markdown",
      "metadata": {
        "id": "084X4shT-UNQ"
      },
      "source": [
        "Load the MNIST Data Set as an example"
      ]
    },
    {
      "cell_type": "code",
      "execution_count": 2,
      "metadata": {
        "id": "oaHhfDZD-TdC"
      },
      "outputs": [],
      "source": [
        "import subprocess\n",
        "\n",
        "# Installation on Google Colab\n",
        "try:\n",
        "    import google.colab\n",
        "    subprocess.run(['python', '-m', 'pip', 'install', 'skorch' , 'torch'])\n",
        "except ImportError:\n",
        "    pass\n",
        "\n",
        "\n",
        "\n",
        "\n",
        "mnist = fetch_openml('mnist_784', as_frame=False, cache=False) # Get Data Set"
      ]
    },
    {
      "cell_type": "markdown",
      "metadata": {
        "id": "UBVLU1iK_FCH"
      },
      "source": []
    },
    {
      "cell_type": "code",
      "execution_count": 3,
      "metadata": {
        "colab": {
          "base_uri": "https://localhost:8080/"
        },
        "id": "nCz9Dqmb_FVE",
        "outputId": "b1bdceb9-8e9d-4643-fd64-550e38d25b6c"
      },
      "outputs": [
        {
          "data": {
            "text/plain": [
              "(70000, 784)"
            ]
          },
          "execution_count": 3,
          "metadata": {},
          "output_type": "execute_result"
        }
      ],
      "source": [
        "# Convert to float\n",
        "X = mnist.data.astype('float32')\n",
        "X /= 255.0\n",
        "X.shape"
      ]
    },
    {
      "cell_type": "code",
      "execution_count": 4,
      "metadata": {
        "id": "Uxk7epWeBCnT"
      },
      "outputs": [],
      "source": [
        "# plt.imshow(X[0, :].reshape(28, 28), cmap = 'gray')"
      ]
    },
    {
      "cell_type": "markdown",
      "metadata": {
        "id": "UCa7sHRpAUFd"
      },
      "source": [
        "Now that we have loaded the MNIST Data Set, the idea is that we assume that the hand written digits were captured by a Camera with forward model $H$.\n",
        "Given the forward model $H$, we pass in the MNIST Data Set points through $H$ and generate Training Data for the model defined below.\n",
        "\n",
        "Directions for experiments:\n",
        "\n",
        "\n",
        "*   Change the output measurement dimension $m$ such that $m <<$ input measurement (in this case 784)\n",
        "* Change the parameter $\\tau > 0$ to promote sparsity\n",
        "* Change \"data\" variable to collect more subsets of data\n",
        "\n"
      ]
    },
    {
      "cell_type": "markdown",
      "metadata": {
        "id": "hfAxgxf4c8_t"
      },
      "source": [
        "**Construct Data Set**"
      ]
    },
    {
      "cell_type": "code",
      "execution_count": 22,
      "metadata": {
        "id": "_XrlkBehYOdS"
      },
      "outputs": [],
      "source": [
        "np.random.seed(42) # for indices"
      ]
    },
    {
      "cell_type": "code",
      "execution_count": 24,
      "metadata": {
        "id": "ipbuSGgWYe5u"
      },
      "outputs": [],
      "source": [
        "# Extract subset from Original Data Set of 70 000 images\n",
        "\n",
        "data = 20000\n",
        "\n",
        "X_sampled = torch.from_numpy(X[:data :])\n",
        "\n",
        "\n",
        "m = 400   # Dimension of output measurement (m must be << 784)\n",
        "n = X_sampled.shape[1] # Input dimension of collected data\n",
        "\n",
        "# Assume Forward model matrix is given to you\n",
        "\n",
        "H = torch.randn(m, n)\n",
        "\n",
        "# Assume Sparisty Basis is given, obtained via QR Decomposition\n",
        "\n",
        "A = torch.randn(n, n)\n",
        "Q, R = torch.qr(A)  # Q is an orthogonal matrix\n",
        "Phi = Q\n",
        "\n",
        "\n",
        "# Passs through Forward model\n",
        "\n",
        "Y = X_sampled @ H.T # shape (reduced, m)\n",
        "\n",
        "\n",
        "indices = np.random.permutation(Y.shape[0])\n",
        "\n",
        "split_size = 5000\n",
        "indices1 = indices[:split_size] # for train\n",
        "indices2 = indices[split_size:2*split_size] # for dev\n",
        "indices3 = indices[2*split_size:3*split_size] # for test\n",
        "\n",
        "\n",
        "\n",
        "\n",
        "# Generate random measurements from Camera Model for train, dev, and test sets\n",
        "samples_train = {\n",
        "    \"y\": Y[indices1, :]\n",
        "}\n",
        "\n",
        "samples_dev = {\n",
        "    \"y\": Y[indices2, :]\n",
        "}\n",
        "\n",
        "samples_test = {\n",
        "    \"y\": Y[indices3, :]\n",
        "}\n",
        "\n",
        "# create named dictionary datasets\n",
        "train_data = DictDataset(samples_train, name='train')\n",
        "dev_data = DictDataset(samples_dev, name='dev')\n",
        "test_data = DictDataset(samples_test, name='test')\n",
        "\n",
        "# create torch dataloaders for the Trainer\n",
        "train_loader = torch.utils.data.DataLoader(train_data, batch_size=32, num_workers=0,\n",
        "                                           collate_fn=train_data.collate_fn, shuffle=True)\n",
        "dev_loader = torch.utils.data.DataLoader(dev_data, batch_size=32, num_workers=0,\n",
        "                                         collate_fn=dev_data.collate_fn, shuffle=True)\n",
        "test_loader = torch.utils.data.DataLoader(test_data, batch_size=32, num_workers=0,\n",
        "                                         collate_fn=test_data.collate_fn, shuffle=True)"
      ]
    },
    {
      "cell_type": "code",
      "execution_count": 24,
      "metadata": {
        "id": "HFB41tliFVB1"
      },
      "outputs": [],
      "source": []
    },
    {
      "cell_type": "code",
      "execution_count": 25,
      "metadata": {
        "id": "Uos1oPH-k4lJ"
      },
      "outputs": [],
      "source": [
        "# define neural architecture for the trainable solution map\n",
        "func = blocks.MLP(insize=m, outsize=n,         # input size corresponds to the measurement and output size corresponds to reconstructed input\n",
        "                bias=True,\n",
        "                linear_map=slim.maps['linear'],\n",
        "                nonlin=nn.ReLU,\n",
        "                hsizes= [80] * 4)\n",
        "# wrap neural net into symbolic representation of the solution map via the Node class: sol_map(xi) -> x\n",
        "sol_map = Node(func, ['y'], ['x'], name='map')"
      ]
    },
    {
      "cell_type": "code",
      "execution_count": 26,
      "metadata": {
        "colab": {
          "base_uri": "https://localhost:8080/"
        },
        "id": "qLbydOjEyFJs",
        "outputId": "e310b0b5-ce76-43bb-f344-ce1afb5b001e"
      },
      "outputs": [
        {
          "name": "stdout",
          "output_type": "stream",
          "text": [
            "tensor([[ 0.0376, -0.1082, -0.2262,  ..., -0.1316,  0.0469, -0.1396],\n",
            "        [ 0.0343, -0.0577, -0.0990,  ..., -0.1901,  0.0423, -0.1625],\n",
            "        [ 0.0039, -0.0700, -0.0621,  ..., -0.0834,  0.0858, -0.0803],\n",
            "        ...,\n",
            "        [ 0.0678, -0.0221, -0.0322,  ..., -0.1824,  0.0516, -0.1276],\n",
            "        [ 0.0211, -0.0504,  0.0100,  ..., -0.2598,  0.3116, -0.0617],\n",
            "        [ 0.1970, -0.1129, -0.1246,  ..., -0.3562,  0.1874, -0.2123]],\n",
            "       grad_fn=<AddmmBackward0>)\n"
          ]
        }
      ],
      "source": [
        "out = func(samples_train['y'])\n",
        "print(out)"
      ]
    },
    {
      "cell_type": "code",
      "execution_count": 27,
      "metadata": {
        "colab": {
          "base_uri": "https://localhost:8080/"
        },
        "id": "BibbZ9pzyQYR",
        "outputId": "4bb6be62-00f6-4f07-e2ab-00cc52123ef5"
      },
      "outputs": [
        {
          "data": {
            "text/plain": [
              "torch.Size([5000, 784])"
            ]
          },
          "execution_count": 27,
          "metadata": {},
          "output_type": "execute_result"
        }
      ],
      "source": [
        "out.shape"
      ]
    },
    {
      "cell_type": "code",
      "execution_count": 28,
      "metadata": {
        "colab": {
          "base_uri": "https://localhost:8080/"
        },
        "id": "b_8hL8QXyXCH",
        "outputId": "98449ff2-e833-4567-e8e7-1aab385d778c"
      },
      "outputs": [
        {
          "data": {
            "text/plain": [
              "torch.Size([5000, 400])"
            ]
          },
          "execution_count": 28,
          "metadata": {},
          "output_type": "execute_result"
        }
      ],
      "source": [
        "test = samples_train['y']\n",
        "test.shape"
      ]
    },
    {
      "cell_type": "markdown",
      "metadata": {
        "id": "-IeixmCkdGDe"
      },
      "source": [
        "Define decision and primal variables, and parameters, along with objective to minimize"
      ]
    },
    {
      "cell_type": "code",
      "execution_count": 29,
      "metadata": {
        "id": "0EFaUXMz5EA1"
      },
      "outputs": [],
      "source": [
        "# define primal decision variables\n",
        "x = variable(\"x\")\n",
        "# problem parameters sampled in the dataset\n",
        "y = variable('y')\n",
        "\n",
        "# Regularizer for sparsity\n",
        "tau = 0.8\n",
        "\n",
        "# objective function\n",
        "f = torch.norm(y - (x @ H.T), p = 2) ** 2 + (tau * torch.norm(x @ Phi.T, p = 1)) # non smooth regularizer\n",
        "obj = f.minimize(weight=1.0, name='obj')\n",
        "\n",
        "# constraints\n",
        "Q_con = 1.0  # constraint penalty weights set deliberately too low to demonstrate\n",
        "con_1 = Q_con * (x >= 0) # non negativity constraint\n",
        "con_1.name = 'c1'"
      ]
    },
    {
      "cell_type": "code",
      "execution_count": 30,
      "metadata": {
        "id": "nrGLt-eJgv0y"
      },
      "outputs": [],
      "source": [
        "# instantiate projected gradient layer to correct the solutions from the neural net:\n",
        "# proj(sol_map(xi)) -> x\n",
        "num_steps = 5\n",
        "step_size = 0.1\n",
        "proj = solvers.GradientProjection(constraints = [con_1],          # inequality constraints to be corrected\n",
        "                                  input_keys = [\"x\"],                    # primal variables to be updated\n",
        "                                  num_steps = num_steps,                 # number of rollout steps of the solver method\n",
        "                                  step_size = step_size,                 # step size of the solver method\n",
        "                                  decay = 0.1,                           # decay factor of the step size\n",
        "                                  name = 'proj')"
      ]
    },
    {
      "cell_type": "code",
      "execution_count": 31,
      "metadata": {
        "colab": {
          "base_uri": "https://localhost:8080/",
          "height": 200
        },
        "id": "Bx6tMwYUhoeE",
        "outputId": "672112e4-6420-4c6b-c9f9-4cdaaf102b15"
      },
      "outputs": [
        {
          "data": {
            "image/png": "[encoded data removed]",
            "text/plain": [
              "<Figure size 640x480 with 1 Axes>"
            ]
          },
          "metadata": {},
          "output_type": "display_data"
        }
      ],
      "source": [
        "# constrained optimization problem construction\n",
        "objectives = [obj]\n",
        "constraints = [con_1]\n",
        "components = [sol_map, proj]\n",
        "\n",
        "# create penalty method loss function\n",
        "loss = PenaltyLoss(objectives, constraints)\n",
        "# construct constrained optimization problem\n",
        "problem = Problem(components, loss,\n",
        "                  grad_inference=True   # argument for allowing computation of gradients at the inference time\n",
        "                  )\n",
        "problem.show()"
      ]
    },
    {
      "cell_type": "code",
      "execution_count": 33,
      "metadata": {
        "id": "DUhPthHXh9YD"
      },
      "outputs": [],
      "source": [
        "lr = 0.001      # step size for gradient descent\n",
        "epochs = 100    # number of training epochs\n",
        "warmup = epochs    # number of epochs to wait before enacting early stopping policy\n",
        "patience = epochs  # number of epochs with no improvement in eval metric to allow before early stopping"
      ]
    },
    {
      "cell_type": "code",
      "execution_count": 34,
      "metadata": {
        "id": "P_KY6c_DjR-Y"
      },
      "outputs": [],
      "source": [
        "optimizer = torch.optim.AdamW(problem.parameters(), lr=lr)\n",
        "\n",
        "# define trainer\n",
        "trainer = Trainer(\n",
        "    problem,\n",
        "    train_loader,\n",
        "    dev_loader,\n",
        "    test_loader,\n",
        "    optimizer,\n",
        "    epochs=epochs,\n",
        "    patience=patience,\n",
        "    warmup=warmup)"
      ]
    },
    {
      "cell_type": "code",
      "execution_count": 35,
      "metadata": {
        "colab": {
          "base_uri": "https://localhost:8080/"
        },
        "id": "Ssx8eX4TjXSo",
        "outputId": "3725718f-86e9-4ba2-e8d4-f3bde044971a"
      },
      "outputs": [
        {
          "name": "stdout",
          "output_type": "stream",
          "text": [
            "epoch: 0  train_loss: 500354.4375\n",
            "epoch: 1  train_loss: 293213.0625\n",
            "epoch: 2  train_loss: 242667.546875\n",
            "epoch: 3  train_loss: 218001.984375\n",
            "epoch: 4  train_loss: 202158.84375\n",
            "epoch: 5  train_loss: 192163.40625\n",
            "epoch: 6  train_loss: 185323.078125\n",
            "epoch: 7  train_loss: 180593.15625\n",
            "epoch: 8  train_loss: 177193.5625\n",
            "epoch: 9  train_loss: 174659.421875\n",
            "epoch: 10  train_loss: 171936.8125\n",
            "epoch: 11  train_loss: 168269.78125\n",
            "epoch: 12  train_loss: 164734.515625\n",
            "epoch: 13  train_loss: 162763.015625\n",
            "epoch: 14  train_loss: 160938.359375\n",
            "epoch: 15  train_loss: 159414.859375\n",
            "epoch: 16  train_loss: 157727.46875\n",
            "epoch: 17  train_loss: 156778.03125\n",
            "epoch: 18  train_loss: 155379.5625\n",
            "epoch: 19  train_loss: 153712.390625\n",
            "epoch: 20  train_loss: 152889.421875\n",
            "epoch: 21  train_loss: 151042.078125\n",
            "epoch: 22  train_loss: 150520.796875\n",
            "epoch: 23  train_loss: 149621.171875\n",
            "epoch: 24  train_loss: 148478.453125\n",
            "epoch: 25  train_loss: 147994.453125\n",
            "epoch: 26  train_loss: 146728.203125\n",
            "epoch: 27  train_loss: 145533.9375\n",
            "epoch: 28  train_loss: 145163.0625\n",
            "epoch: 29  train_loss: 144773.328125\n",
            "epoch: 30  train_loss: 144229.0625\n",
            "epoch: 31  train_loss: 143809.28125\n",
            "epoch: 32  train_loss: 143368.59375\n",
            "epoch: 33  train_loss: 143086.25\n",
            "epoch: 34  train_loss: 142401.25\n",
            "epoch: 35  train_loss: 142142.3125\n",
            "epoch: 36  train_loss: 141783.0\n",
            "epoch: 37  train_loss: 141966.09375\n",
            "epoch: 38  train_loss: 141712.71875\n",
            "epoch: 39  train_loss: 141056.578125\n",
            "epoch: 40  train_loss: 141038.40625\n",
            "epoch: 41  train_loss: 140566.34375\n",
            "epoch: 42  train_loss: 140408.859375\n",
            "epoch: 43  train_loss: 140376.75\n",
            "epoch: 44  train_loss: 140188.875\n",
            "epoch: 45  train_loss: 140107.765625\n",
            "epoch: 46  train_loss: 139746.953125\n",
            "epoch: 47  train_loss: 139572.859375\n",
            "epoch: 48  train_loss: 139565.828125\n",
            "epoch: 49  train_loss: 139189.765625\n",
            "epoch: 50  train_loss: 138961.890625\n",
            "epoch: 51  train_loss: 139397.40625\n",
            "epoch: 52  train_loss: 139268.828125\n",
            "epoch: 53  train_loss: 138769.9375\n",
            "epoch: 54  train_loss: 138386.34375\n",
            "epoch: 55  train_loss: 138284.25\n",
            "epoch: 56  train_loss: 138272.171875\n",
            "epoch: 57  train_loss: 138235.0\n",
            "epoch: 58  train_loss: 138009.9375\n",
            "epoch: 59  train_loss: 137962.34375\n",
            "epoch: 60  train_loss: 137542.453125\n",
            "epoch: 61  train_loss: 137560.65625\n",
            "epoch: 62  train_loss: 137491.265625\n",
            "epoch: 63  train_loss: 137484.734375\n",
            "epoch: 64  train_loss: 137395.75\n",
            "epoch: 65  train_loss: 137181.5\n",
            "epoch: 66  train_loss: 137079.296875\n",
            "epoch: 67  train_loss: 137207.25\n",
            "epoch: 68  train_loss: 136627.515625\n",
            "epoch: 69  train_loss: 136884.75\n",
            "epoch: 70  train_loss: 136748.0625\n",
            "epoch: 71  train_loss: 136254.53125\n",
            "epoch: 72  train_loss: 136841.96875\n",
            "epoch: 73  train_loss: 136330.234375\n",
            "epoch: 74  train_loss: 136352.28125\n",
            "epoch: 75  train_loss: 136307.34375\n",
            "epoch: 76  train_loss: 136045.4375\n",
            "epoch: 77  train_loss: 136123.328125\n",
            "epoch: 78  train_loss: 135745.953125\n",
            "epoch: 79  train_loss: 135756.875\n",
            "epoch: 80  train_loss: 135783.953125\n",
            "epoch: 81  train_loss: 135510.078125\n",
            "epoch: 82  train_loss: 135470.21875\n",
            "epoch: 83  train_loss: 135509.984375\n",
            "epoch: 84  train_loss: 135413.9375\n",
            "epoch: 85  train_loss: 135430.71875\n",
            "epoch: 86  train_loss: 135029.96875\n",
            "epoch: 87  train_loss: 134796.625\n",
            "epoch: 88  train_loss: 135135.84375\n",
            "epoch: 89  train_loss: 134720.890625\n",
            "epoch: 90  train_loss: 134684.9375\n",
            "epoch: 91  train_loss: 134713.015625\n",
            "epoch: 92  train_loss: 134207.984375\n",
            "epoch: 93  train_loss: 134317.171875\n",
            "epoch: 94  train_loss: 134287.0625\n",
            "epoch: 95  train_loss: 133941.0625\n",
            "epoch: 96  train_loss: 134015.890625\n",
            "epoch: 97  train_loss: 133813.890625\n",
            "epoch: 98  train_loss: 133673.78125\n",
            "epoch: 99  train_loss: 133788.59375\n"
          ]
        },
        {
          "data": {
            "text/plain": [
              "<All keys matched successfully>"
            ]
          },
          "execution_count": 35,
          "metadata": {},
          "output_type": "execute_result"
        }
      ],
      "source": [
        "# Train NLP solution map\n",
        "best_model = trainer.train()\n",
        "best_outputs = trainer.test(best_model)\n",
        "# load best model dict\n",
        "problem.load_state_dict(best_model)"
      ]
    },
    {
      "cell_type": "code",
      "execution_count": 36,
      "metadata": {
        "colab": {
          "base_uri": "https://localhost:8080/"
        },
        "id": "ECrKgD0-lO6z",
        "outputId": "d3d84518-c737-4e1a-f534-215c9177ae21"
      },
      "outputs": [
        {
          "name": "stderr",
          "output_type": "stream",
          "text": [
            "<ipython-input-36-dad934e14982>:9: UserWarning: To copy construct from a tensor, it is recommended to use sourceTensor.clone().detach() or sourceTensor.clone().detach().requires_grad_(True), rather than torch.tensor(sourceTensor).\n",
            "  datapoint = {'y': torch.tensor(y_sample), 'name': 'test'}\n"
          ]
        }
      ],
      "source": [
        "# selected image data for reconstruction\n",
        "import random\n",
        "\n",
        "i = random.randint(0, 1000) # sample index for testing\n",
        "\n",
        "y_sample = Y[i, :]\n",
        "\n",
        "# Solution to mpNLP via Neuromancer, forward pass\n",
        "datapoint = {'y': torch.tensor(y_sample), 'name': 'test'}\n",
        "model_out = problem(datapoint)"
      ]
    },
    {
      "cell_type": "code",
      "execution_count": 37,
      "metadata": {
        "colab": {
          "base_uri": "https://localhost:8080/",
          "height": 469
        },
        "id": "UAnuy1WFLKb3",
        "outputId": "5987b74f-89b7-495a-fb03-241d5ebcfd43"
      },
      "outputs": [
        {
          "data": {
            "text/plain": [
              "Text(0.5, 1.0, 'Original Sample')"
            ]
          },
          "execution_count": 37,
          "metadata": {},
          "output_type": "execute_result"
        },
        {
          "data": {
            "image/png": "[encoded data removed]",
            "text/plain": [
              "<Figure size 640x480 with 1 Axes>"
            ]
          },
          "metadata": {},
          "output_type": "display_data"
        }
      ],
      "source": [
        "# Show solution original image\n",
        "plt.imshow(X_sampled[i, :].reshape(28, 28), cmap = 'gray')\n",
        "plt.title('Original Sample')"
      ]
    },
    {
      "cell_type": "code",
      "execution_count": 38,
      "metadata": {
        "colab": {
          "base_uri": "https://localhost:8080/",
          "height": 469
        },
        "id": "qKHp0gPFGUFO",
        "outputId": "cb902c87-3b1d-4941-cf3e-adc45ef6a540"
      },
      "outputs": [
        {
          "data": {
            "text/plain": [
              "Text(0.5, 1.0, 'Reconstructed Sample with NeuroMANCER')"
            ]
          },
          "execution_count": 38,
          "metadata": {},
          "output_type": "execute_result"
        },
        {
          "data": {
            "image/png": "[encoded data removed]",
            "text/plain": [
              "<Figure size 640x480 with 1 Axes>"
            ]
          },
          "metadata": {},
          "output_type": "display_data"
        }
      ],
      "source": [
        "# Show solution i.e. the approximation\n",
        "show_out = model_out['test_' + \"x\"].detach().numpy()\n",
        "plt.imshow(show_out.reshape(28, 28), cmap = 'gray')\n",
        "plt.title('Reconstructed Sample with NeuroMANCER')"
      ]
    },
    {
      "cell_type": "markdown",
      "metadata": {
        "id": "Gn5o5A24KY6x"
      },
      "source": [
        "Now, we will compare the solution with the built in ADMM approach in CVXPY"
      ]
    },
    {
      "cell_type": "code",
      "execution_count": 39,
      "metadata": {
        "colab": {
          "base_uri": "https://localhost:8080/",
          "height": 452
        },
        "id": "gWKvX5Mr7d-g",
        "outputId": "d2008e29-d22c-4c0d-a761-a313d2eda3ec"
      },
      "outputs": [
        {
          "data": {
            "image/png": "[encoded data removed]",
            "text/plain": [
              "<Figure size 640x480 with 1 Axes>"
            ]
          },
          "metadata": {},
          "output_type": "display_data"
        }
      ],
      "source": [
        "import cvxpy as cp\n",
        "\n",
        "# define var in CVPXY\n",
        "x = cp.Variable(H.shape[1], nonneg=True)\n",
        "\n",
        "# define objective\n",
        "objective = cp.Minimize(\n",
        "    cp.sum_squares(y_sample - H @ x) + tau * cp.norm1(Phi @ x)\n",
        ")\n",
        "\n",
        "# solve the problem\n",
        "prob = cp.Problem(objective)\n",
        "result = prob.solve()\n",
        "\n",
        "# result\n",
        "x_hat = x.value\n",
        "\n",
        "# Reshape and plot the solution if it's an image\n",
        "plt.imshow(x_hat.reshape(28, 28), cmap='gray')\n",
        "plt.title('Reconstructed Sample via CVXPY')\n",
        "plt.show()"
      ]
    },
    {
      "cell_type": "code",
      "execution_count": 40,
      "metadata": {
        "colab": {
          "base_uri": "https://localhost:8080/"
        },
        "id": "OtG0jD2eU5TP",
        "outputId": "1f141b62-4fd8-44aa-935b-7c85734d6ac3"
      },
      "outputs": [
        {
          "name": "stdout",
          "output_type": "stream",
          "text": [
            "Mean Squared Error (MSE): 4.285096269693738\n"
          ]
        }
      ],
      "source": [
        "# compute MSE between the two estimated outputs\n",
        "mse = np.mean((show_out - x_hat) ** 2) * 100\n",
        "print(f\"Mean Squared Error (MSE): {mse}\")"
      ]
    },
    {
      "cell_type": "markdown",
      "metadata": {
        "id": "88eXE8gDQeTD"
      },
      "source": [
        "From what we can see in the above example, by using cvxpy, it gives us a solution that is nicer than the one used by NeuroMANCER, thus suggesting that NeuroMANCER might need improvement possibly in handling non smooth regularizers. Therefore, a new research direction, is in improving this capabiltiy.\n",
        "\n",
        "Although the result obtained by NeuroMANCER is actually good (maybe a bit noisy), we can still qualitatively see the differences between the two sample outputs."
      ]
    },
    {
      "cell_type": "code",
      "execution_count": null,
      "metadata": {
        "id": "4KtXY25WrWkO"
      },
      "outputs": [],
      "source": []
    }
  ],
  "metadata": {
    "colab": {
      "provenance": []
    },
    "kernelspec": {
      "display_name": "Python 3",
      "name": "python3"
    },
    "language_info": {
      "name": "python"
    }
  },
  "nbformat": 4,
  "nbformat_minor": 0
}
